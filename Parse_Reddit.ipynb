{
  "nbformat": 4,
  "nbformat_minor": 0,
  "metadata": {
    "colab": {
      "name": "Parse_Reddit.ipynb",
      "provenance": [],
      "collapsed_sections": [],
      "authorship_tag": "ABX9TyPAigwx6ajNq7mpi4oOYw/Q",
      "include_colab_link": true
    },
    "kernelspec": {
      "display_name": "Python 3",
      "name": "python3"
    }
  },
  "cells": [
    {
      "cell_type": "markdown",
      "metadata": {
        "id": "view-in-github",
        "colab_type": "text"
      },
      "source": [
        "<a href=\"https://colab.research.google.com/github/UlkuTuncerKucuktas/RedditParsing/blob/main/Parse_Reddit.ipynb\" target=\"_parent\"><img src=\"https://colab.research.google.com/assets/colab-badge.svg\" alt=\"Open In Colab\"/></a>"
      ]
    },
    {
      "cell_type": "code",
      "metadata": {
        "id": "ubeU_1m8kJIr"
      },
      "source": [
        "# Gerekli olan kütüphanenin indirilmesi\n",
        "# Kütüphane hakkında daha fazla bilgi : https://praw.readthedocs.io/en/latest/\n",
        "\n",
        "!pip install praw\n"
      ],
      "execution_count": null,
      "outputs": []
    },
    {
      "cell_type": "code",
      "metadata": {
        "id": "q6Ia7ZFTbktW"
      },
      "source": [
        "# Kütüphanenin import edilmesi ve bağlantı için gerekli parametrelerin girilmesi\n",
        "# Reddit API kullanarak parametreleri elde etmek için https://www.youtube.com/watch?v=NRgfgtzIhBQ\n",
        "import praw\n",
        "\n",
        "reddit = praw.Reddit(\n",
        "     client_id=\"#####\",\n",
        "     client_secret=\"######\",\n",
        "     user_agent=\"Erzincan\",\n",
        "     username=\"RedditParserTurk\",\n",
        "     password=\"#####\"\n",
        " )\n",
        "reddit.read_only = True\n"
      ],
      "execution_count": 2,
      "outputs": []
    },
    {
      "cell_type": "code",
      "metadata": {
        "id": "j7cxLARH1ecP"
      },
      "source": [
        "# subreddit_chosen değerini , üzerinde çalışmak istediğiniz subreddit ile değiştireblirsiniz.\n",
        "# title_limit çalışacağınız subredditten çekeceğiniz submission sayısıdır.\n",
        "\n",
        "subreddit_chosen = \"BlackPeopleTwitter\"\n",
        "\n",
        "title_limit = 200\n",
        "\n",
        "# Comment ve title'ları depolayacak listler\n",
        "\n",
        "submissions_chosen_title = []\n",
        "\n",
        "comments_chosen = []\n",
        "\n"
      ],
      "execution_count": 39,
      "outputs": []
    },
    {
      "cell_type": "code",
      "metadata": {
        "id": "BljVWkTz2_T7"
      },
      "source": [
        "# .new değerini .hot  .controversial .gilded .rising .top olarak değiştirebilirsiniz\n",
        "\n",
        "from tqdm import tqdm\n",
        "\n",
        "for submission in tqdm(reddit.subreddit(subreddit_chosen).new(limit=title_limit)):\n",
        "\n",
        "    submissions_chosen_title.append(submission.title)\n",
        "\n",
        "    submission.comments.replace_more(limit=None)\n",
        "\n",
        "    for comment in submission.comments.list():\n",
        "\n",
        "      comments_chosen.append(comment.body)\n"
      ],
      "execution_count": null,
      "outputs": []
    },
    {
      "cell_type": "code",
      "metadata": {
        "id": "x2HhHUeb4LFt"
      },
      "source": [
        "\n",
        "# Bu Fonksiyon , sadece tekrar eden kelimeleri almak için hepsini küçük harf yapar ve noktalama işaretlerinden ayırır.\n",
        "import re\n",
        "def string_filter(string_to_filter):\n",
        "  filtered_string = []\n",
        "  for string in  string_to_filter:\n",
        "    [filtered_string.append(re.sub(r\"[!\\\"#$%&'()*+,-./:;<=>?@[\\]^_`{|}~]\", \"\", s).lower()) for s in string.split()]\n",
        "\n",
        "  filtered_string = list(filter(None.__ne__, filtered_string)) \n",
        "\n",
        "  filtered_string = list(filter(\"\".__ne__, filtered_string))\n",
        "\n",
        "  return filtered_string\n",
        "\n",
        "# Sadece kelimeleri içerecek listeler\n",
        "title_words = []\n",
        "comment_words = []\n",
        "\n",
        "#Fonksiyonu çağırıp listelerin içerisini doldurur\n",
        "title_words = string_filter(submissions_chosen_title)\n",
        "\n",
        "comment_words = string_filter(comments_chosen)\n",
        "\n",
        "\n",
        "  "
      ],
      "execution_count": 41,
      "outputs": []
    },
    {
      "cell_type": "code",
      "metadata": {
        "id": "aGar1oA4lxHy"
      },
      "source": [
        "from collections import Counter\n",
        "import collections\n",
        "from tqdm import tqdm\n",
        "\n",
        "# En çok geçen kelimeleri sıralamak için bubblesort kullanır.\n",
        "def bubblesort(list):\n",
        "  for iter_num in tqdm(range(len(list)-1,0,-1)):\n",
        "      for idx in range(iter_num):\n",
        "          if list[idx][1]<list[idx+1][1]:\n",
        "              temp = list[idx]\n",
        "              list[idx] = list[idx+1]\n",
        "              list[idx+1] = temp\n",
        "\n",
        "# En çok geçen kelimeleri bulmak için kaçar tane geçtiğini hesaplar bir dictionary içerisine atar ve bubble sort ile sıralar\n",
        "def string_word_counter(string_to_count):\n",
        "  counted_list = []\n",
        "  counted_dict = collections.Counter(string_to_count)\n",
        "  for key in tqdm(counted_dict):\n",
        "    counted_list.append([key,counted_dict[key]])\n",
        "  bubblesort(counted_list)\n",
        "  return counted_list\n",
        "\n",
        "title_counted_list = string_word_counter(title_words)\n",
        "\n",
        "comment_counted_list = string_word_counter(comment_words)\n",
        "\n",
        "\n",
        "\n"
      ],
      "execution_count": null,
      "outputs": []
    },
    {
      "cell_type": "code",
      "metadata": {
        "id": "V3S7xNCRVArk"
      },
      "source": [
        "# Bağlaçların tümü , sıfatlar ve fiillerin bazıları analiz için bir anlam ifade etmeyecek kadar sık kullanıldığı için \n",
        "# exception listesi içerisinde olan kelimeleri listeden ayıklar.Büyük ihtimalle çok daha güzel yöntemler vardır ama\n",
        "# bu da belli oranda çalışıyor.\n",
        "exception = [\"at\",\"doğru\",\"years\",\"well\",\"same\",\"they’re\",\"it’s\",\"kim\",\"kabul\",\"siz\",\"sizin\",\"üzere\",\"tarafından\",\"look\",\"hes\",\"değildir\",\"gelen\",\"evet\",\"anyone\",\"let\",\"doing\",\"anything\",\"shes\",\"through\",\"doesn’t\",\"around\",\"having\",\"you’re\",\"hakkında\",\"ain’t\",\"seni\",\"new\",\"being\",\"don’t\",\"i’m\",\"youre\",\"everyone\",\"off\",\"until\",\"back\",\"got\",\"it's\",\"always\",\"someone\",\"she\",\"i’m\",\"going\",\"already\",\"sometimes\",\"don't\",\"im\",\"i'm\",\"gerçekten\",\"olay\",\"diğer\",\"hemen\",\"şeyler\",\"ediyor\",\"açık\",\"ilgili\",\"tabi\",\"içinde\",\"aslında\",\"pek\",\"hatta\",\"beni\",\"dedim\",\"bilmiyorum\",\"eğer\",\"tane\",\"aynen\",\"hayır\",\"bide\",\"hep\",\"arada\",\"yaptım\",\"attım\",\"keşke\",\"tane\",\"eder\",\"olmuş\",\"yaptım\",\"herkes\",\"yeter\",\"yapar\",\"could\",\"sure\",\"probably\",\"nothing\",\"isnt\",\"far\",\"might\",\"great\",\"over\",\"where\",\"every\",\"things\",\"may\",\"wont\",\"better\",\"take\",\"didnt\",\"both\",\"both\",\"cant\",\"point\",\"does\",\"since\",\"before\",\"every\",\"different\",\"need\",\"something\",\"never\",\"first\",\"lot\",\"while\",\"mean\",\"doesnt\",\"yes\",\"actually\",\"talks\",\"own\",\"though\",\"doesn't\",\"after\",\"said\",\"into\",\"thing\",\"had\",\"bütün\",\"part\",\"did\",\"those\",\"says\",\"too\",\"out\",\"fakat\",\"than\",\"him\",\"zaman\",\"very\",\"lol\",\"lazım\",\"5\",\"onu\",\"olması\",\"farklı\",\"really\",\"removed\",\"burada\",\"still\",\"many\",\"then\",\"time\",\"make\",\"use\",\"20\",\"thats\",\"adamlar\",\"yüzden\",\"say\",\"tüm\",\"ilk\",\"gerek\",\"olacak\",\"d\",\"niye\",\"icin\",\"10\",\"biri\",\"people\",\"now\",\"ancak\",\"gün\",\"yıl\",\"bak\",\"bize\",\"sana\",\"go\",\"yanlış\",\"against\",\"ayrıca\",\"up\",\"way\",\"güzel\",\"other\",\"yeni\",\"kötü\",\"hiçbir\",\"which\",\"much\",\"cok\",\"mu\",\"hala\",\"any\",\"tam\",\"most\",\"yoksa\",\"belki\",\"these\",\"iki\",\"böyle\",\"and\",\"the\",\"in\",\"bir\",\"to\",\"a\",\"of\",\"ve\",\"is\",\"you\",\"is\",\"for\",\"bu\",\"var\",\"de\",\"da\",\"from\",\"i\",\"ama\",\"with\",\"ne\",\"ile\",\"it\",\"için\",\"by\",\"are\",\"that\",\"about\",\"how\",\"çok\",\"o\",\"you\",\"gibi\",\"mi\",\"daha\",\"ne\",\"what\",\"yok\",\"not\",\"en\",\"are\",\"kadar\",\"değil\",\"but\",\"they\",\"it\",\"be\",\"kadar\",\"değil\",\"but\",\"this\",\"ben\",\"been\",\"diye\",\"be\",\"olarak\",\"ki\",\"ile\",\"en\",\"we\",\"her\",\"with\",\"as\",\"zaten\",\"have\",\"bile\",\"on\",\"if\",\"me\",\"was\",\"like\",\"ya\",\"iyi\",\"he\",\"sonra\",\"from\",\"şey\",\"or\",\"your\",\"can\",\"an\",\"so\",\"about\",\"just\",\"will\",\"its\",\"bi\",\"dont\",\"olan\",\"there\",\"what\",\"adam\",\"sadece\",\"do\",\"all\",\"mı\",\"no\",\"kendi\",\"sen\",\"by\",\"falan\",\"bunu\",\"şu\",\"would\",\"yani\",\"their\",\"more\",\"aynı\",\"one\",\"büyük\",\"because\",\"them\",\"bizim\",\"bence\",\"biz\",\"olur\",\"2\",\"my\",\"1\",\"who\",\"nasıl\",\"benim\",\"also\",\"çünkü\",\"has\",\"öyle\",\"some\",\"tek\",\"senin\",\"neden\",\"know\",\"think\",\"hiç\",\"olduğu\",\"fazla\",\"even\",\"yine\",\"get\",\"veya\",\"why\",\"olduğunu\",\"deleted\",\"olsun\",\"önce\",\"bana\",\"were\",\"oldu\",\"our\",\"hem\",\"şimdi\",\"want\",\"biraz\",\"göre\",\"az\",\"artık\",\"us\",\"when\",\"ise\",\"how\",\"3\",\"his\",\"başka\",\"me\",\"am\",\"olsa\",\"oluyor\",\"bunun\",\"im\",\"should\",\"here\",\"demek\",\"karşı\",\"only\",\"olabilir\",\"vs\",\"bunlar\",\"son\",\"good\",\"şekilde\",\"see\",\"devam\",\"evet\",]\n",
        "def exception_control(list):\n",
        "  to_remove = []\n",
        "  for i in range(len(list)):\n",
        "    for value in exception:\n",
        "      if value == list[i][0]:\n",
        "        to_remove.append(i)\n",
        "  res = [] \n",
        "  [res.insert(0,x) for x in to_remove if x not in res]\n",
        "  for i in res:\n",
        "    list.pop(i)\n",
        "  "
      ],
      "execution_count": 43,
      "outputs": []
    },
    {
      "cell_type": "code",
      "metadata": {
        "id": "myjqCs80dxvX"
      },
      "source": [
        "exception_controlled_title = title_counted_list\n",
        "\n",
        "exception_control(exception_controlled_title)\n",
        "\n",
        "exception_controlled_comment = comment_counted_list\n",
        "\n",
        "exception_control(exception_controlled_comment)\n"
      ],
      "execution_count": 44,
      "outputs": []
    },
    {
      "cell_type": "code",
      "metadata": {
        "id": "yfUILcORmShB"
      },
      "source": [
        ""
      ],
      "execution_count": null,
      "outputs": []
    },
    {
      "cell_type": "code",
      "metadata": {
        "id": "UUVCAWnAxsqW"
      },
      "source": [
        "# Ayıklanmış listeleri yazdırır\n",
        "\n",
        "print(exception_controlled_title)\n",
        "\n",
        "print(exception_controlled_comment)"
      ],
      "execution_count": null,
      "outputs": []
    },
    {
      "cell_type": "code",
      "metadata": {
        "id": "H6TPs3StnXsB"
      },
      "source": [
        "title_grapgh_value = []\n",
        "title_grapgh_label = []\n",
        "[title_grapgh_label.append(exception_controlled_title[x][0]) for x in range(10)]\n",
        "[title_grapgh_value.append(int(exception_controlled_title[x][1])) for x in range(10)]\n",
        "\n",
        "comment_grapgh_value = []\n",
        "comment_grapgh_label = []\n",
        "[comment_grapgh_label.append(exception_controlled_comment[x][0]) for x in range(10)]\n",
        "[comment_grapgh_value.append(int(exception_controlled_comment[x][1])) for x in range(10)]"
      ],
      "execution_count": null,
      "outputs": []
    },
    {
      "cell_type": "code",
      "metadata": {
        "id": "oBfNbuGAyDyO"
      },
      "source": [
        "# Grafik çizimi \n",
        "import pandas as pd\n",
        "series_title = pd.Series(title_grapgh_value,title_grapgh_label,name=\"\")\n",
        "series_comment = pd.Series(comment_grapgh_value,comment_grapgh_label,name=\"\")"
      ],
      "execution_count": null,
      "outputs": []
    },
    {
      "cell_type": "code",
      "metadata": {
        "id": "_3BtoVEZm9T2"
      },
      "source": [
        "series_title.plot.pie(autopct='%.0f')"
      ],
      "execution_count": null,
      "outputs": []
    },
    {
      "cell_type": "code",
      "metadata": {
        "id": "wH5Ulrp5tmBd"
      },
      "source": [
        "series_comment.plot.pie(autopct='%.0f')"
      ],
      "execution_count": null,
      "outputs": []
    }
  ]
}